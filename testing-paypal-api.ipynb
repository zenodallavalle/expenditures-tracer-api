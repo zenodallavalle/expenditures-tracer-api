{
 "cells": [
  {
   "cell_type": "code",
   "execution_count": 1,
   "metadata": {},
   "outputs": [],
   "source": [
    "import paypal\n",
    "from datetime import datetime as dt\n",
    "import pandas as pd\n",
    "from dotenv import dotenv_values\n",
    "env_values = dotenv_values()"
   ]
  },
  {
   "cell_type": "code",
   "execution_count": null,
   "metadata": {},
   "outputs": [],
   "source": [
    "p = paypal.PayPal()"
   ]
  },
  {
   "cell_type": "code",
   "execution_count": 2,
   "metadata": {},
   "outputs": [],
   "source": [
    "p = paypal.PayPal(\n",
    "    env_values['PAYPAL_CLIENT_ID'],\n",
    "    env_values['PAYPAL_CLIENT_SECRET']\n",
    ")"
   ]
  },
  {
   "cell_type": "code",
   "execution_count": 3,
   "metadata": {},
   "outputs": [],
   "source": [
    "# try:\n",
    "#     p._login()\n",
    "# except Exception as e:\n",
    "#     print(e.r.status_code, e.r.text)"
   ]
  },
  {
   "cell_type": "code",
   "execution_count": 4,
   "metadata": {},
   "outputs": [],
   "source": [
    "try:\n",
    "    transactions = p.get_transactions(start_date=dt(2022, 6, 25, 0, 0, 0), end_date=dt(2022, 6, 30,0,0,0), transaction_status='S', return_raw=True)\n",
    "except Exception as e:\n",
    "    print(e)\n",
    "    print(e.r.status_code)\n",
    "    print(e.r.text)\n",
    "    print(e.r.json())"
   ]
  },
  {
   "cell_type": "code",
   "execution_count": 5,
   "metadata": {},
   "outputs": [],
   "source": [
    "import pprint"
   ]
  },
  {
   "cell_type": "code",
   "execution_count": null,
   "metadata": {},
   "outputs": [],
   "source": []
  }
 ],
 "metadata": {
  "kernelspec": {
   "display_name": "Python 3.8.13 ('ML')",
   "language": "python",
   "name": "python3"
  },
  "language_info": {
   "codemirror_mode": {
    "name": "ipython",
    "version": 3
   },
   "file_extension": ".py",
   "mimetype": "text/x-python",
   "name": "python",
   "nbconvert_exporter": "python",
   "pygments_lexer": "ipython3",
   "version": "3.9.13"
  },
  "orig_nbformat": 4,
  "vscode": {
   "interpreter": {
    "hash": "23075f95c5f7c5c4b639a13888a5ce2a9157eca3008a31d38caba53c3acab065"
   }
  }
 },
 "nbformat": 4,
 "nbformat_minor": 2
}
